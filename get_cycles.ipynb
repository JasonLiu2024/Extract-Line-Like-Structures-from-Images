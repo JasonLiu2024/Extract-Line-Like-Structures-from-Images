{
 "cells": [
  {
   "cell_type": "code",
   "execution_count": 9,
   "metadata": {},
   "outputs": [],
   "source": [
    "import potrace as pot\n",
    "import numpy as np\n",
    "from PIL import Image"
   ]
  },
  {
   "cell_type": "code",
   "execution_count": 8,
   "metadata": {},
   "outputs": [
    {
     "data": {
      "text/plain": [
       "[[<potrace.potrace.CornerSegment at 0x7fd8e8b50fa0>,\n",
       "  <potrace.potrace.CornerSegment at 0x7fd8a0948820>,\n",
       "  <potrace.potrace.CornerSegment at 0x7fd8a09487c0>,\n",
       "  <potrace.potrace.CornerSegment at 0x7fd8a0948670>]]"
      ]
     },
     "execution_count": 8,
     "metadata": {},
     "output_type": "execute_result"
    }
   ],
   "source": [
    "import potrace as pot\n",
    "data = np.zeros((10, 10))\n",
    "bitmap = pot.Bitmap(data)\n",
    "paths = bitmap.trace()\n",
    "paths"
   ]
  }
 ],
 "metadata": {
  "kernelspec": {
   "display_name": "base",
   "language": "python",
   "name": "python3"
  },
  "language_info": {
   "codemirror_mode": {
    "name": "ipython",
    "version": 3
   },
   "file_extension": ".py",
   "mimetype": "text/x-python",
   "name": "python",
   "nbconvert_exporter": "python",
   "pygments_lexer": "ipython3",
   "version": "3.9.13"
  },
  "orig_nbformat": 4
 },
 "nbformat": 4,
 "nbformat_minor": 2
}
